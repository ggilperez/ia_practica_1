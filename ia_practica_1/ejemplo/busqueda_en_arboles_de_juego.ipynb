{
  "cells": [
    {
      "cell_type": "markdown",
      "metadata": {
        "id": "EtvI1sZvdh6Z"
      },
      "source": [
        "# **Búsqueda en Árboles de Juego**\n",
        "\n",
        "Aprenderemos a implementar el algoritmo **Minimax con poda alfa-beta** para el juego *Conecta 4*.\n",
        "\n",
        "En este juego de suma cero por turnos, cada jugador inserta en su turno una ficha por una de las columnas, que caen verticalmente hasta la última posición vacía de esa columna. El objetivo es conseguir que haya cuatro fichas de su mismo color en línea, ya sea horizontal, vertical o diagonalmente.\n",
        "\n",
        "<img src=\"data:image/png;base64,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\" width=\"400\"/>\n",
        "\n",
        "En este cuaderno se representan los estados, transiciones, funciones solución y heurística, así como la implementación de Minimax con poda alfa-beta necesaria para resolver el problema computacionalmente."
      ]
    },
    {
      "cell_type": "markdown",
      "metadata": {
        "id": "xdlRhB9C5mLd"
      },
      "source": [
        "## **Parte Dependiente**: Conecta 4\n",
        "\n",
        "Vamos a considerar el juego de Conecta 4 con un tablero de 6 filas y 7 columnas. En este juego:\n",
        "- el jugador humano (MIN) se representa como **'X'**\n",
        "- la máquina (MAX) se representa como **'O'**\n",
        "- la casilla vacía se representa como un **'-'**"
      ]
    },
    {
      "cell_type": "code",
      "execution_count": 11,
      "metadata": {
        "id": "LXJb8nV7Aru1"
      },
      "outputs": [
        {
          "ename": "ModuleNotFoundError",
          "evalue": "No module named 'numpy'",
          "output_type": "error",
          "traceback": [
            "\u001b[1;31m---------------------------------------------------------------------------\u001b[0m",
            "\u001b[1;31mModuleNotFoundError\u001b[0m                       Traceback (most recent call last)",
            "Cell \u001b[1;32mIn[11], line 1\u001b[0m\n\u001b[1;32m----> 1\u001b[0m \u001b[38;5;28;01mimport\u001b[39;00m \u001b[38;5;21;01mnumpy\u001b[39;00m \u001b[38;5;28;01mas\u001b[39;00m \u001b[38;5;21;01mnp\u001b[39;00m\n\u001b[0;32m      3\u001b[0m \u001b[38;5;66;03m# Tamaño del tablero\u001b[39;00m\n\u001b[0;32m      4\u001b[0m filas \u001b[38;5;241m=\u001b[39m \u001b[38;5;241m6\u001b[39m\n",
            "\u001b[1;31mModuleNotFoundError\u001b[0m: No module named 'numpy'"
          ]
        }
      ],
      "source": [
        "import numpy as np\n",
        "\n",
        "# Tamaño del tablero\n",
        "filas = 6\n",
        "columnas = 7\n",
        "\n",
        "# Jugadores\n",
        "jugadores = {'X':1, 'O':2, '-':0}\n",
        "\n",
        "# Función para crear un tablero vacío\n",
        "def crear_tablero(filas, columnas):\n",
        "  return np.zeros((filas, columnas), dtype=int)\n",
        "\n",
        "# Función para imprimir el tablero\n",
        "def imprimir_tablero(tablero):\n",
        "  filas, columnas = tablero.shape\n",
        "  for fila in range(filas):\n",
        "    for col in range(columnas):\n",
        "      if tablero[filas - 1 - fila][col] == 0:\n",
        "        print(\" - \", end=\"\")\n",
        "      elif tablero[filas - 1 - fila][col] == 1:\n",
        "        print(\" X \", end=\"\")\n",
        "      elif tablero[filas - 1 - fila][col] == 2:\n",
        "        print(\" O \", end=\"\")\n",
        "    print()\n",
        "  print(' ' + '  '.join([str(i) for i in range(1, columnas+1)]))\n",
        "  print()\n",
        "\n",
        "imprimir_tablero(crear_tablero(filas,columnas))"
      ]
    },
    {
      "cell_type": "markdown",
      "metadata": {
        "id": "PAhHIm_RhVRY"
      },
      "source": [
        "Por turnos, cada jugador va introduciendo una ficha alternativamente en cualquiera de las 7 columnas del tablero que se encuentren con alguna posición (fila) libre en ese momento, y esta ficha caerá hasta la posición (fila) más baja que se encuentre libre."
      ]
    },
    {
      "cell_type": "code",
      "execution_count": 2,
      "metadata": {
        "id": "nvRSaEjwOh0A"
      },
      "outputs": [],
      "source": [
        "# Función para dejar caer una ficha en una columna\n",
        "def dejar_ficha(tablero, fila, col, jugador):\n",
        "  tablero[fila][col] = jugadores[jugador]\n",
        "\n",
        "# Función para verificar si una columna está llena\n",
        "def columna_llena(tablero, col):\n",
        "  filas, columnas = tablero.shape\n",
        "  return tablero[filas - 1][col] != 0\n",
        "\n",
        "# Función para obtener la fila disponible en una columna\n",
        "def obtener_fila_disponible(tablero, col):\n",
        "  filas, columnas = tablero.shape\n",
        "  for fila in range(filas):\n",
        "    if tablero[fila][col] == 0:\n",
        "      return fila\n",
        "  return None\n",
        "\n",
        "# Función para obtener las columnas válidas para el próximo movimiento\n",
        "def columnas_validas(tablero):\n",
        "  filas, columnas = tablero.shape\n",
        "  columnas_validas = []\n",
        "  for col in range(columnas):\n",
        "    if not columna_llena(tablero, col):\n",
        "      columnas_validas.append(col)\n",
        "  return columnas_validas\n",
        "\n",
        "# Función que devuelve los nuevos estados del tablero según los posibles movimientos del jugador\n",
        "def movimientos(tablero, jugador):\n",
        "  sucesores = []\n",
        "  columnas_disponibles = columnas_validas(tablero)\n",
        "  for col in columnas_disponibles:\n",
        "    fila_disponible = obtener_fila_disponible(tablero, col)\n",
        "    copia_tablero = tablero.copy()\n",
        "    dejar_ficha(copia_tablero, fila_disponible, col, jugador)\n",
        "    sucesores.append(copia_tablero)\n",
        "  return sucesores, columnas_disponibles"
      ]
    },
    {
      "cell_type": "markdown",
      "metadata": {
        "id": "yJZwXvCJMTif"
      },
      "source": [
        "El objetivo del juego Conecta 4 es alinear cuatro fichas consecutivas del mismo color (en horizontal, vertical o diagonal) sobre el tablero, ganando la partida el primero que lo consiga.\n",
        "\n",
        "Si todas las columnas están llenas, pero nadie ha hecho una fila válida, hay empate.\n"
      ]
    },
    {
      "cell_type": "code",
      "execution_count": 3,
      "metadata": {
        "id": "Gk1ERBg6Otp2"
      },
      "outputs": [],
      "source": [
        "# Función para verificar si un jugador ha ganado\n",
        "def ganador(tablero, jugador):\n",
        "  filas, columnas = tablero.shape\n",
        "  # Verificar horizontalmente\n",
        "  for fila in range(filas):\n",
        "    for col in range(columnas - 3):\n",
        "      if all(tablero[fila][col + i] == jugadores[jugador] for i in range(4)):\n",
        "        return True\n",
        "\n",
        "  # Verificar verticalmente\n",
        "  for fila in range(filas - 3):\n",
        "    for col in range(columnas):\n",
        "      if all(tablero[fila + i][col] == jugadores[jugador] for i in range(4)):\n",
        "        return True\n",
        "\n",
        "  # Verificar en diagonal (ascendente)\n",
        "  for fila in range(3, filas):\n",
        "    for col in range(columnas - 3):\n",
        "      if all(tablero[fila - i][col + i] == jugadores[jugador] for i in range(4)):\n",
        "        return True\n",
        "\n",
        "  # Verificar en diagonal (descendente)\n",
        "  for fila in range(filas - 3):\n",
        "    for col in range(columnas - 3):\n",
        "      if all(tablero[fila + i][col + i] == jugadores[jugador] for i in range(4)):\n",
        "        return True\n",
        "\n",
        "  return False\n",
        "\n",
        "# Función para verificar si el juego ha terminado e indicar el resultado\n",
        "def juego_terminado(tablero):\n",
        "  if ganador(tablero, 'X'):\n",
        "    return (True, 'X')\n",
        "  elif ganador(tablero,'O'):\n",
        "    return (True,'O')\n",
        "  elif len(columnas_validas(tablero)) == 0:\n",
        "    return (True,'-')\n",
        "  else:\n",
        "    return (False,None)"
      ]
    },
    {
      "cell_type": "markdown",
      "metadata": {
        "id": "FI1mf_0wmpz2"
      },
      "source": [
        "Se propone usar el heurístico es  H = L(O) - L(X), siendo L la suma del número de fichas de ese color en el tablero por cada línea posible. En el caso de que una misma ficha forme parte de más de una línea, se sumará más de una vez, una por cada línea posible."
      ]
    },
    {
      "cell_type": "code",
      "execution_count": 4,
      "metadata": {
        "id": "3K6p7rAFOxZY"
      },
      "outputs": [],
      "source": [
        "# Función para evaluar el tablero\n",
        "def evaluar_tablero(tablero, jugador):\n",
        "  puntuacion = 0\n",
        "\n",
        "  # Evaluar horizontalmente\n",
        "  for fila in range(filas):\n",
        "    for col in range(columnas - 3):\n",
        "      ventana = [tablero[fila][col + i] for i in range(4)]\n",
        "      puntuacion += evaluar_ventana(ventana, jugador)\n",
        "\n",
        "  # Evaluar verticalmente\n",
        "  for fila in range(filas - 3):\n",
        "    for col in range(columnas):\n",
        "      ventana = [tablero[fila + i][col] for i in range(4)]\n",
        "      puntuacion += evaluar_ventana(ventana, jugador)\n",
        "\n",
        "  # Evaluar en diagonal (ascendente)\n",
        "  for fila in range(3, filas):\n",
        "    for col in range(columnas - 3):\n",
        "      ventana = [tablero[fila - i][col + i] for i in range(4)]\n",
        "      puntuacion += evaluar_ventana(ventana, jugador)\n",
        "\n",
        "  # Evaluar en diagonal (descendente)\n",
        "  for fila in range(filas - 3):\n",
        "    for col in range(columnas - 3):\n",
        "      ventana = [tablero[fila + i][col + i] for i in range(4)]\n",
        "      puntuacion += evaluar_ventana(ventana, jugador)\n",
        "\n",
        "  return puntuacion\n",
        "\n",
        "# Función para evaluar una ventana de 4 fichas\n",
        "def evaluar_ventana(ventana, jugador):\n",
        "  rival = 'X' if jugador == 'O' else 'O'\n",
        "  fichas_jugador = ventana.count(jugadores[jugador])\n",
        "  fichas_rival = ventana.count(jugadores[rival])\n",
        "  fichas_vacias = ventana.count(jugadores['-'])\n",
        "  if fichas_jugador == 4-fichas_vacias:\n",
        "    return fichas_jugador\n",
        "  elif fichas_rival == 4-fichas_vacias:\n",
        "    return -fichas_rival\n",
        "  return 0"
      ]
    },
    {
      "cell_type": "markdown",
      "metadata": {
        "id": "g86okStj7TTN"
      },
      "source": [
        "## **Parte Independiente**: Algoritmo Minimax con poda alfa beta\n",
        "\n",
        "Ahora implementamos el algoritmo **Minimax con poda alfa-beta**.\n",
        "\n",
        "Cuando nos encontramos en un nodo MAX, la llamada a minimax se hace con el tablero insertando previamente la ficha, disminuyendo en uno la profundidad, con los valores de alfa y beta que ha recibido y con False para indicar que en la próxima llamada le toca a un nodo MIN. Se actualiza alfa si el valor devuelto por el nodo hijo es >= alfa y se poda si alfa es >= beta.\n",
        "\n",
        "Cuando nos encontramos con un nodo MIN, la llamada a minimax se hace igual pero con True para indicar que en la próxima llamada le toca a un nodo MAX. Se actualiza beta si el valor devuelto por el nodo hijo es <= beta y se poda si alfa es >= beta."
      ]
    },
    {
      "cell_type": "code",
      "execution_count": 5,
      "metadata": {
        "id": "8POMg0c3P1j3"
      },
      "outputs": [],
      "source": [
        "# Función principal del algoritmo Minimax con poda alfa-beta\n",
        "def minimax_alpha_beta(tablero, sucesores, terminada, heuristica, profundidad, alpha, beta, MIN, MAX, is_max=True):\n",
        "  fin, ganador = terminada(tablero)\n",
        "  if fin:\n",
        "    if ganador == MAX:\n",
        "      return (None, 100000000000000)\n",
        "    elif ganador == MIN:\n",
        "      return (None, -10000000000000)\n",
        "    else:\n",
        "      return (None, 0)\n",
        "  elif profundidad == 0:\n",
        "    return (None, heuristica(tablero, MAX))\n",
        "\n",
        "  if is_max:\n",
        "    valor_max = -float(\"inf\")\n",
        "    nuevos_estados, jugadas = sucesores(tablero,MAX)\n",
        "    jugada_elediga = np.random.choice(jugadas)\n",
        "    for jugada, estado in zip(jugadas, nuevos_estados):\n",
        "      _, nuevo_valor = minimax_alpha_beta(estado, sucesores, terminada, heuristica, profundidad - 1, alpha, beta, MIN, MAX, False)\n",
        "      if nuevo_valor > valor_max:\n",
        "        valor_max = nuevo_valor\n",
        "        jugada_elegida = jugada\n",
        "      alpha = max(alpha, valor_max)\n",
        "      if alpha >= beta:\n",
        "        break\n",
        "    return jugada_elegida, valor_max\n",
        "  else: # is MIN\n",
        "    valor_min = float(\"inf\")\n",
        "    nuevos_estados, jugadas = sucesores(tablero,MIN)\n",
        "    jugada_elediga = np.random.choice(jugadas)\n",
        "    for jugada, estado in zip(jugadas, nuevos_estados):\n",
        "      _, nuevo_valor = minimax_alpha_beta(estado, sucesores, terminada, heuristica, profundidad - 1, alpha, beta, MIN, MAX, True)\n",
        "      if nuevo_valor < valor_min:\n",
        "        valor_min = nuevo_valor\n",
        "        jugada_elegida = jugada\n",
        "      beta = min(beta, valor_min)\n",
        "      if alpha >= beta:\n",
        "        break\n",
        "    return jugada_elegida, valor_min"
      ]
    },
    {
      "cell_type": "markdown",
      "metadata": {
        "id": "dpcCdQi1oCpH"
      },
      "source": [
        "# Probando el juego Conecta 4\n",
        "En el programa principal creamos el tablero inicial y entramos en un bucle hasta que termine el juego\n",
        "En dicho bucle:\n",
        "- Imprimimos el tablero\n",
        "- Si le toca al humano pedimos su jugada\n",
        "- Si le toca a la máquina llamamos a minimax con poda alfa beta con una determinada profundidad (probamos con 5), con alfa = -inf y con beta = inf\n",
        "- Por último, imprimimos el resultado del juego (gana humano, gana máquina o tablas)"
      ]
    },
    {
      "cell_type": "code",
      "execution_count": null,
      "metadata": {
        "id": "gJlHZE7vE3s0"
      },
      "outputs": [],
      "source": [
        "# Juego principal\n",
        "tablero = crear_tablero(filas, columnas)\n",
        "jugador = 'X'\n",
        "\n",
        "while not juego_terminado(tablero)[0]:\n",
        "  if jugador == 'X':\n",
        "    # Turno del jugador humano\n",
        "    imprimir_tablero(tablero)\n",
        "    col = int(input(\"Elige una columna para dejar tu ficha (1-\"+str(columnas)+\"): \")) - 1\n",
        "    if col not in columnas_validas(tablero):\n",
        "      print(\"Columna no válida. Intenta de nuevo.\")\n",
        "    else:\n",
        "      fila = obtener_fila_disponible(tablero, col)\n",
        "      dejar_ficha(tablero, fila, col, jugador)\n",
        "      jugador = 'O'\n",
        "\n",
        "  else:\n",
        "    # Turno de la IA\n",
        "    col, _ = minimax_alpha_beta(tablero, movimientos, juego_terminado, evaluar_tablero, 5, -float(\"inf\"), float(\"inf\"), 'X', 'O', True)\n",
        "    fila = obtener_fila_disponible(tablero, col)\n",
        "    print(f\"La IA dejó una ficha en la columna {col + 1}.\")\n",
        "    dejar_ficha(tablero, fila, col, jugador)\n",
        "    jugador = 'X'\n",
        "\n",
        "imprimir_tablero(tablero)\n",
        "if ganador(tablero, 'X'):\n",
        "    print(\"¡Has ganado!\")\n",
        "elif ganador(tablero, 'O'):\n",
        "    print(\"¡La IA ha ganado!\")\n",
        "else:\n",
        "    print(\"¡Empate!\")\n"
      ]
    },
    {
      "cell_type": "markdown",
      "metadata": {
        "id": "-Y67roEWtb3q"
      },
      "source": [
        "## **Ejercicio 1**\n",
        "\n",
        "Implementar el algoritmo Minimax \"sin poda alfa-beta\" para el juego Conecta 4."
      ]
    },
    {
      "cell_type": "markdown",
      "metadata": {
        "id": "6w78t1Ofsk7r"
      },
      "source": [
        "## **Ejercicio 2**\n",
        "\n",
        "Diseñar las funciones necesarias para resolver el juego Tres en Raya usando los algoritmos anteriores (Minimax y Minimax con poda alfa-beta)."
      ]
    },
    {
      "cell_type": "markdown",
      "metadata": {
        "id": "vxa-GoohZo5b"
      },
      "source": [
        "## **Prácticas con el código proporcionado**\n",
        "\n",
        "Para cada uno de los juegos y para cada uno de los algoritmos (Minimax y Minimax con poda alfa-beta):\n",
        "\n",
        "1. Definir un estado concreto del tablero de juego en el que haya el mismo número de jugadas realizadas por humano y por la máquina\n",
        "\n",
        "2. Introducir una jugada del humano (estado inicial)\n",
        "\n",
        "3. Obtener la jugada seleccionada por la máquina\n",
        "\n",
        "4. Desarrollar en papel el algoritmo elegido partiendo del estado inicial y comprobar que obtenemos el mismo resultado que el obtenido por la máquina"
      ]
    }
  ],
  "metadata": {
    "colab": {
      "provenance": []
    },
    "kernelspec": {
      "display_name": "Python 3",
      "language": "python",
      "name": "python3"
    },
    "language_info": {
      "codemirror_mode": {
        "name": "ipython",
        "version": 3
      },
      "file_extension": ".py",
      "mimetype": "text/x-python",
      "name": "python",
      "nbconvert_exporter": "python",
      "pygments_lexer": "ipython3",
      "version": "3.12.7"
    }
  },
  "nbformat": 4,
  "nbformat_minor": 0
}
