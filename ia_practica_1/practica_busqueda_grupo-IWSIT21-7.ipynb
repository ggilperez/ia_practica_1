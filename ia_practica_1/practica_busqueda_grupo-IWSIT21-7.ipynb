{
 "cells": [
  {
   "cell_type": "markdown",
   "metadata": {
    "id": "lY-pfkAxnle2"
   },
   "source": [
    "# A. Enunciado de la práctica"
   ]
  },
  {
   "cell_type": "markdown",
   "metadata": {
    "id": "odvJR32Enle5"
   },
   "source": [
    "## 1. Objetivos de la práctica\n",
    "El desarrollo de esta práctica pretende que el alumnado analice, diseñe e implemente soluciones a un problema usando las técnicas de exploración en espacios de estados impartidas en la asignatura Inteligencia Artificial (IA). Para ello, el alumnado desarrollará de forma grupal (por cuartetos) un proyecto de programación en lenguaje Python mediante el uso del entorno de programación Google Colab y cuadernos de Python."
   ]
  },
  {
   "cell_type": "markdown",
   "metadata": {
    "id": "KVH9e_lSnle6"
   },
   "source": [
    "## 2. Caso de estudio\n",
    "Se pretende resolver una variante del problema de las reinas de ajedrez, utilizando caballos en su lugar para descubrir cuántos caballos pueden estar presentes en un tablero de ajedrez sin amenazarse mutuamente. Cualquier configuración de caballos en el tablero es válida siempre y cuando no se amenacen mutuamente, pero se desea encontrar el máximo número de caballos. A continuación se ven varios ejemplos sobre un tablero de tamaño 3x3:\n",
    "\n",
    "```\n",
    "Optimal and Valid   Valid   Not valid\n",
    "K·K                 K·K     K··\n",
    "·K·                 ···     ··K\n",
    "K·K                 K··     ·K·\n",
    "```\n",
    "\n",
    "* Se proporciona un tablero de tamaño MxN (M=Alto, N=Ancho).\n",
    "* El objetivo del algoritmo es encontrar una configuración válida con el máximo número de caballos posible.\n",
    "* El movimiento del caballo forma una L en 8 direcciones posibles, consulta la figura para tener una referencia visual:\n",
    "\n",
    "<img src=\"https://culturacientifica.com/app/uploads/2022/10/imagen-2-560x553.jpg\" alt=\"drawing\" style=\"width:200px;\"/>"
   ]
  },
  {
   "cell_type": "markdown",
   "metadata": {
    "id": "vakmiWD_nle7"
   },
   "source": [
    "## 3. Desarrollo\n",
    "El desarrollo de esta práctica supone completar este cuaderno de python para resolver el problema para varias configuraciones diferentes usando técnicas de Búsqueda. Además, usando este cuaderno de python, se quieren mostrar resultados de la ejecución de los algoritmos para extraer conclusiones sobre las configuraciones del problema. También se desea hacer una comparativa entre los algoritmos de búsqueda seleccionados.\n",
    "\n",
    "Es posible que la configuración del problema sea demasiado grande para alguno de los algoritmos. Como regla general, si el algoritmo tarda más de 5 minutos en completar su ejecución se puede declarar que el algoritmo no ha encontrado solución en un tiempo razonable (y lo indicamos en el análisis de resultados)\n",
    "\n",
    "* Se proporcionan varias configuraciones:\n",
    "    * Un tablero de **2x2**,\n",
    "    * Un tablero de **3x3**,\n",
    "    * Un tablero de **3x5**,\n",
    "    * Un tablero de **5x5**,\n",
    "    * Un tablero de **8x8**.\n",
    "* Se desea aplicar dos algoritmos:\n",
    "    * **Branch & Bound**: Se quiere obtener una solución óptima, (máximo número de caballos)\n",
    "    * **A-Star**: Se debe proporcionar (al menos) una heurística admisible para encontrar una solución óptima. En esta memoria se debe justificar que la heurística sea admisible, haciendo la demostración correspondiente.\n",
    "\n",
    "Para cada configuración y algoritmo se debe proporcionar una tabla de estas características (Puede usarse un generador de tablas https://www.tablesgenerator.com/markdown_tables o pandas https://pandas.pydata.org/docs/user_guide/index.html):\n",
    "\n",
    "| Tablero | Algoritmo | Tiempo | Caballos |\n",
    "|---------|-----------|--------|----------|\n",
    "| 3x3     |  A*       | 3s     | 4        |\n",
    "| 3x3     |  B&B      | 5s     | 4        |\n",
    "| 3x5     |  A*       | 10s    | 6        |"
   ]
  },
  {
   "cell_type": "markdown",
   "metadata": {
    "id": "k7n6wwIjnle8"
   },
   "source": [
    "## 4. Normativa de la práctica\n",
    "Para el desarrollo del proyecto de programación se proporciona este cuaderno que sirve a modo de proyecto de programación. Se han propuesto varias configuraciones de tablero para utilizar en las distintas pruebas. Se permiten crear todas las funciones adicionales que sea necesario siempre y cuando se respete la estructura general de este cuaderno. Este cuaderno es el único entregable, por tanto desarrollar código fuera de él no es recomendable.\n",
    "\n",
    "Además de explicar las decisiones tomadas, será necesario realizar una comparativa de resultados en una o varias tablas, así como incluir una comparativa  final.\n",
    "\n",
    "La práctica debe realizarse teniendo en cuenta la siguiente normativa:\n",
    "* NO está permitido alterar los nombres, parámetros ni tipo de retorno de ninguno de los métodos proporcionados. El método modificado se evaluará como 0 así como todos los métodos que dependan de él.\n",
    "* No está permitido el uso de librerías externas excepto numpy y pandas. El uso de librerías externas hará que se evalúe la práctica como 0.\n",
    "* La práctica se realizará de forma grupal (grupos de 4 alumnos). Cada grupo deberá desarrollar de manera independiente su propia práctica y realizar su propia entrega.\n",
    "* El plagio de la práctica queda estrictamente prohibido. La detección de plagio supondrá una calificación de 0 en la convocatoria de la asignatura para todos los alumnos implicados, así como la posibilidad de apertura de expediente académico disciplinar.\n",
    "* Para ser evaluado de la práctica es obligatorio entregarla en plazo, habiendo realizado correctamente al menos una funcionalidad de las pedidas. Una entrega fuera de plazo será evaluada como 0.\n",
    "* Usa este cuaderno a modo de memoria, justificando las decisiones que tomes a lo largo del proceso de desarrollo. El desarrollo en texto puntúa de cara a la nota de la práctica.\n",
    "* De cara a la entrega es estrictamente necesario entregar el cuaderno ejecutado al completo. Una entrega que no haya sido ejecutada con éxito hasta la última celda será evaluada como 0. (Entregad el archivo .ipynb)\n",
    "* Se debe comentar el código adecuadamente. Este apartado es puntuable."
   ]
  },
  {
   "cell_type": "markdown",
   "metadata": {
    "id": "FyyEkYr_nle8"
   },
   "source": [
    "# Cuerpo de la práctica\n",
    "Usa las siguientes celdas para desarrollar todo el código pedido. Recuerda respetar esta estructura general y añadir celdas siempre dentro de cada apartado."
   ]
  },
  {
   "cell_type": "markdown",
   "metadata": {
    "id": "kY6Qan4Qnle9"
   },
   "source": [
    "## Gestión de estados"
   ]
  },
  {
   "cell_type": "markdown",
   "metadata": {
    "id": "KxjhQNXJnle9"
   },
   "source": [
    "### Estado inicial"
   ]
  },
  {
   "cell_type": "code",
   "execution_count": null,
   "metadata": {
    "id": "lmcM4aPvnle-"
   },
   "outputs": [],
   "source": [
    "import numpy as np\n",
    "def initial_state(M, N):\n",
    "    # Crea un tablero vacío usando 0s\n",
    "    return np.zeros((M,N), dtype=int)"
   ]
  },
  {
   "cell_type": "code",
   "execution_count": null,
   "metadata": {
    "id": "4Ls4POJvnle_"
   },
   "outputs": [],
   "source": [
    "# Ejemplo de uso de la función estado inicial\n",
    "board = initial_state(3, 3)\n",
    "print(board)"
   ]
  },
  {
   "cell_type": "markdown",
   "metadata": {
    "id": "JVeEjXCjnle_"
   },
   "source": [
    "### Expansion de estados"
   ]
  },
  {
   "cell_type": "code",
   "execution_count": null,
   "metadata": {
    "id": "qwDZJdfInlfA"
   },
   "outputs": [],
   "source": [
    "from enum import Enum\n",
    "# Representación de las celdas del tablero\n",
    "class BoardCell(int, Enum):\n",
    "    KNIGHT = 1\n",
    "    EMPTY = 0\n",
    "    THREATED = -1\n",
    "    \n",
    "\n",
    "def expand(board):\n",
    "    boards = [] # Crea una lista vacía de tableros\n",
    "\n",
    "    # Crea una lista de tableros con todas las posibles jugadas validas\n",
    "    rows, cols = board.shape\n",
    "    for i in range(rows):\n",
    "        for j in range(cols):\n",
    "            # Check if can insert knight in i/j\n",
    "            if board[i][j] == BoardCell.EMPTY and not knight_in_threat(board, i, j):\n",
    "                board_copy = copy_board(board)\n",
    "                add_knight(board_copy, i, j)\n",
    "                boards.append(board_copy)\n",
    "\n",
    "    return boards # Devolvemos una lista de tableros\n",
    "\n",
    "\n",
    "def knight_in_threat(board, i, j):\n",
    "    \"\"\"\n",
    "        Returns True if a Knight at i/j index is not in range of others knights\n",
    "        Args:\n",
    "            board (np.ndarray): Our chess board\n",
    "            i (int): row index\n",
    "            j (int): col index\n",
    "        Returns:\n",
    "            bool\n",
    "    \"\"\"\n",
    "    threated = False\n",
    "    for move in KnightMove:\n",
    "        move_i, move_j = move.value\n",
    "        next_i, next_j = (i + move_i, j + move_j)\n",
    "        if index_in_range(board, next_i, next_j):\n",
    "            if board[next_i][next_j] == BoardCell.KNIGHT:\n",
    "                threated = True\n",
    "                break\n",
    "    return threated\n",
    "\n",
    "def index_in_range(board, i, j):\n",
    "    \"\"\"\n",
    "        Returns True if i, j are in range of given board / matrix\n",
    "        Args:\n",
    "            board (np.ndarray): Our chess board\n",
    "            i (int): row index\n",
    "            j (int): col index\n",
    "        Returns:\n",
    "            bool\n",
    "    \"\"\"\n",
    "    rows, cols = board.shape\n",
    "    return 0 <= i < rows and 0 <= j < cols\n",
    "\n",
    "\n",
    "# Pistas:\n",
    "# - Una función que copie un tablero completo\n",
    "def copy_board(board):\n",
    "    \"\"\"\n",
    "        Returns a copy of given board / matrix\n",
    "        Args:\n",
    "            board (np.ndarray): Our chess board\n",
    "        Returns:\n",
    "            np.ndarray\n",
    "    \"\"\"\n",
    "    return board.copy()\n",
    "\n",
    "# - Una función que coloque un caballo en una posición dada en i, j\n",
    "def add_knight(board, i, j):\n",
    "    \"\"\"\n",
    "        Add a Knight (1) in the board index given\n",
    "        Args:\n",
    "            board (np.ndarray): Our chess board\n",
    "            i (int): row index\n",
    "            j (int): col index\n",
    "        Returns:\n",
    "            None\n",
    "    \"\"\"\n",
    "    # Add Knight\n",
    "    board[i][j] = BoardCell.KNIGHT\n",
    "\n",
    "    # Add also threated cells\n",
    "    for move in KnightMove:\n",
    "        move_i, move_j = move.value\n",
    "        next_i, next_j = (i + move_i, j + move_j)\n",
    "        if index_in_range(board, next_i, next_j):\n",
    "            board[next_i][next_j] = BoardCell.THREATED\n",
    "\n",
    "# - Una estructura de datos con los movimientos posibles para un caballo\n",
    "class KnightMove(Enum):\n",
    "    UP_LEFT    = (-2, -1)\n",
    "    UP_RIGHT   = (-2,  1)\n",
    "    LEFT_UP    = (-1, -2)\n",
    "    LEFT_DOWN  = ( 1, -2)\n",
    "    RIGHT_UP   = (-1,  2)\n",
    "    RIGHT_DOWN = ( 1,  2)\n",
    "    DOWN_LEFT  = ( 2, -1)\n",
    "    DOWN_RIGHT = ( 2,  1)"
   ]
  },
  {
   "cell_type": "code",
   "execution_count": null,
   "metadata": {
    "id": "4fEi9232nlfA"
   },
   "outputs": [],
   "source": [
    "expand(board) # Debe devolver una lista de tableros"
   ]
  },
  {
   "cell_type": "markdown",
   "metadata": {
    "id": "HSrznxK8nlfA"
   },
   "source": [
    "### Solucion alcanzada"
   ]
  },
  {
   "cell_type": "code",
   "execution_count": null,
   "metadata": {
    "id": "zei8cHgWnlfA"
   },
   "outputs": [],
   "source": [
    "def is_solution(board):\n",
    "    # Verifica si un tablero es solución\n",
    "    sol = True\n",
    "\n",
    "    # Haz todas las comprobaciones necesarias para determinar\n",
    "    # si el tablero es solución\n",
    "\n",
    "    # Se entiende que un tablero es solución, cuando no quedan espacios vacíos (BoardCell.EMPTY) \n",
    "    # y todos los huecos están ocupados por caballos (BoardCell.KNIGHT) o están amenazados por estos (BoardCell.THREATED)\n",
    "\n",
    "    # NOTA: aunque sea solución, puede no ser la optima. \n",
    "\n",
    "    sol = np.count_nonzero(board==BoardCell.EMPTY) == 0\n",
    "\n",
    "    return sol # Devuelve True si es solución, False en caso contrario\n",
    "\n"
   ]
  },
  {
   "cell_type": "markdown",
   "metadata": {
    "id": "lfGUFrRPnlfB"
   },
   "source": [
    "## Métricas"
   ]
  },
  {
   "cell_type": "markdown",
   "metadata": {
    "id": "v0flBhGFnlfC"
   },
   "source": [
    "### Funcion de coste"
   ]
  },
  {
   "cell_type": "code",
   "execution_count": null,
   "metadata": {
    "id": "LdTe68E0nlfC"
   },
   "outputs": [],
   "source": [
    "def cost(path): # path debe contener VARIOS tableros\n",
    "    # Calcula el coste de un camino\n",
    "    # Esto debería ser posible: board = path[-1]\n",
    "    cost = 0\n",
    "\n",
    "    # Calcula el coste de un camino completo\n",
    "\n",
    "    # Vamos hacer que el coste sea el número de caballos amenazados que serán los casos no validos\n",
    "    # de esta forma los casos validos tendrán coste 0 y estará minimizado\n",
    "\n",
    "    # Como son sucesiones, podemos utilizar el ultimo board del path, dado que este contiene los caballos de los anteriores\n",
    "    board = path[-1]\n",
    "\n",
    "    # Aumentamos el coste segun haya mas casillas amenazadas, las cuales no podemos usar para poner caballos\n",
    "    # cost += np.count_nonzero(board==BoardCell.THREATED) * 1\n",
    "\n",
    "    # Disminuimos el coste si el caballo NO está amenazado, dado que este camino SI nos interesa\\n\",\n",
    "    cost -= np.count_nonzero(board==BoardCell.KNIGHT) * 0.5\n",
    "\n",
    "                    \n",
    "    # Para poder podar por el camino más corto, añadimos el numero de pasos hasta alcazar el tablero final\n",
    "    cost += len(path)\n",
    "\n",
    "    return cost\n",
    "\n",
    "# Pista:\n",
    "# - Recuerda que A* y B&B funcionan minimizando el coste.\n",
    "# - ¿Podemos afrontar este problema de otra manera? Maximizar las casillas ocupadas NO funciona..."
   ]
  },
  {
   "cell_type": "markdown",
   "metadata": {},
   "source": [
    "### Test Cost"
   ]
  },
  {
   "cell_type": "code",
   "execution_count": null,
   "metadata": {},
   "outputs": [],
   "source": [
    "# For debug purpose\n",
    "\n",
    "# Cost 6\n",
    "path_1 = [\n",
    "    np.array([\n",
    "        [1,0,0], \n",
    "        [0,0,0], \n",
    "        [0,0,0]], dtype=int),\n",
    "    np.array([\n",
    "        [1,0,0], \n",
    "        [0,0,1], \n",
    "        [0,0,0]], dtype=int),\n",
    "    np.array([\n",
    "        [1,0,0], \n",
    "        [0,0,1], \n",
    "        [1,0,0]], dtype=int)\n",
    "]\n",
    "# Cost 2\n",
    "path_2 = [\n",
    "    np.array([\n",
    "        [0,0,0], \n",
    "        [0,0,0], \n",
    "        [0,0,0]], dtype=int),\n",
    "    np.array([\n",
    "        [1,0,0], \n",
    "        [0,0,0], \n",
    "        [0,0,0]], dtype=int),\n",
    "    np.array([\n",
    "        [1,0,0], \n",
    "        [0,0,0], \n",
    "        [0,0,1]], dtype=int)\n",
    "]\n",
    "# Cost 4\n",
    "path_3 = [\n",
    "    np.array([\n",
    "        [1,0,0], \n",
    "        [0,0,0], \n",
    "        [0,0,0]], dtype=int),\n",
    "    np.array([\n",
    "        [1,0,0], \n",
    "        [0,0,1], \n",
    "        [0,0,0]], dtype=int)\n",
    "]\n",
    "\n",
    "expected_cost_for_path_1 = 6\n",
    "expected_cost_for_path_2 = 2\n",
    "expected_cost_for_path_3 = 4\n",
    "\n",
    "print(cost(path_1) == expected_cost_for_path_1)\n",
    "print(cost(path_2) == expected_cost_for_path_2)\n",
    "print(cost(path_3) == expected_cost_for_path_3)"
   ]
  },
  {
   "cell_type": "markdown",
   "metadata": {
    "id": "gfU4IzJYnlfD"
   },
   "source": [
    "### Heurística(s)"
   ]
  },
  {
   "cell_type": "code",
   "execution_count": null,
   "metadata": {
    "id": "JQbMwal-nlfD"
   },
   "outputs": [],
   "source": [
    "def heuristic_1(board):\n",
    "    # Calcula una heurística para un tablero\n",
    "    heuristic = 0\n",
    "\n",
    "    # Calcula la heurística de un tablero aquí\n",
    "\n",
    "    return heuristic\n",
    "\n",
    "# Pista:\n",
    "# - Al igual que con el coste cuanto menor sea el valor de la heurística mejor, ya que se pretende minimizar.\n",
    "# - Puedes probar con heuristicas no admisibles, pero al menos una de ellas debe ser admisible para puntuar."
   ]
  },
  {
   "cell_type": "markdown",
   "metadata": {
    "id": "bwzDuUWznlfD"
   },
   "source": [
    "#### Admisibilidad de la heurística\n",
    "\n",
    "**Usa este espacio para explicar la motivación para usar la heurística, así como demostrar que es admisible.**"
   ]
  },
  {
   "cell_type": "markdown",
   "metadata": {
    "id": "N0IA_IPBnlfE"
   },
   "source": [
    "## Algoritmo de búsqueda"
   ]
  },
  {
   "cell_type": "markdown",
   "metadata": {
    "id": "muklCcCtnlfE"
   },
   "source": [
    "### Poda"
   ]
  },
  {
   "cell_type": "code",
   "execution_count": null,
   "metadata": {
    "id": "z4SD4kwfnlfE"
   },
   "outputs": [],
   "source": [
    "from hashlib import md5\n",
    "def prune(path_list):\n",
    "    # Si detecta que dos caminos llevan al mismo estado,\n",
    "    # solo nos interesa aquel camino de menor coste\n",
    "    # Más adelante usamos la poda despues de ordenar\n",
    "\n",
    "    path_dict={}\n",
    "    for i, path in enumerate(path_list):\n",
    "        # Get hash for last board\n",
    "        board_hash = md5(path[-1]).hexdigest()\n",
    "\n",
    "        # Get / Init if not exists\n",
    "        path_dict[board_hash] = path_dict.get(board_hash, [])\n",
    "\n",
    "        # Store index for same boards\n",
    "        path_dict[board_hash].append(i)\n",
    "    \n",
    "    # Check duplicated boards\n",
    "    for key, value in path_dict.items():\n",
    "        if len(value) > 1:\n",
    "            min_cost = float(\"inf\")\n",
    "            min_index = 0\n",
    "\n",
    "            # Get min cost for this board\n",
    "            for index in value:\n",
    "                current_cost = cost(path_list[index])\n",
    "                if current_cost < min_cost:\n",
    "                    min_cost = current_cost\n",
    "                    min_index = index\n",
    "\n",
    "            # Remove others\n",
    "            for index in value:\n",
    "                if index != min_index:\n",
    "                    # Add None instead of remove, because removing items the index changes\n",
    "                    path_list[index] = None\n",
    "\n",
    "    # Remove None values\n",
    "    path_list = [x for x in path_list if x is not None]\n",
    "\n",
    "    # Use the same path_list object to keep the order\n",
    "\n",
    "    return path_list # Devuelve una lista de caminos"
   ]
  },
  {
   "cell_type": "markdown",
   "metadata": {},
   "source": [
    "### Test Prune"
   ]
  },
  {
   "cell_type": "code",
   "execution_count": null,
   "metadata": {},
   "outputs": [],
   "source": [
    "# For debug purpose\n",
    "\n",
    "path_1 = [\n",
    "    np.array([\n",
    "        [0,0], \n",
    "        [0,0]], dtype=int), \n",
    "    np.array([\n",
    "        [0,0], \n",
    "        [0,1]], dtype=int)\n",
    "]\n",
    "path_2 = [\n",
    "    np.array([\n",
    "        [0,0], \n",
    "        [0,1]], dtype=int), \n",
    "    np.array([\n",
    "        [0,0], \n",
    "        [1,1]], dtype=int)\n",
    "]\n",
    "path_3 = [\n",
    "    np.array([\n",
    "        [0,0], \n",
    "        [1,0]], dtype=int), \n",
    "    np.array([\n",
    "        [0,1], \n",
    "        [0,0]], dtype=int)\n",
    "]\n",
    "path_4 = [\n",
    "    np.array([\n",
    "        [0,1], \n",
    "        [0,0]], dtype=int), \n",
    "    np.array([\n",
    "        [0,1], \n",
    "        [0,1]], dtype=int), \n",
    "    np.array([\n",
    "        [0,0], \n",
    "        [0,1]], dtype=int)\n",
    "] # Mismo final que el primero\n",
    "\n",
    "path_list = [path_1, path_2, path_3, path_4]\n",
    "expected_path_list = [path_1, path_2, path_3]\n",
    "\n",
    "print(prune(path_list) == expected_path_list)"
   ]
  },
  {
   "cell_type": "markdown",
   "metadata": {
    "id": "0yC5spdWnlfE"
   },
   "source": [
    "### Ordenacion"
   ]
  },
  {
   "cell_type": "code",
   "execution_count": null,
   "metadata": {
    "id": "0BSeCXAJnlfF"
   },
   "outputs": [],
   "source": [
    "# *args y **kwargs son argumentos variables, si el argumento no es reconocido es almacenado en estas variables.\n",
    "# Aquí se utilizan para ignorar argumentos innecesarios.\n",
    "def order_astar(old_paths, new_paths, c, h, *args, **kwargs):\n",
    "    # Ordena la lista de caminos segun la heuristica y el coste\n",
    "    return prune([]) # Devuelve la lista de caminos ordenada y podada segun A*\n",
    "\n",
    "def order_byb(old_paths, new_paths, c, *args, **kwargs):\n",
    "    # Ordena la lista de caminos segun el coste\n",
    "    all_paths = old_paths + new_paths\n",
    "\n",
    "    # order paths by c (cost)\n",
    "    all_paths = sorted(all_paths, key=lambda x: c(x))\n",
    "\n",
    "    return prune(all_paths) # Devuelve la lista de caminos ordenada y podada segun B&B"
   ]
  },
  {
   "cell_type": "markdown",
   "metadata": {},
   "source": [
    "### Test order B&B"
   ]
  },
  {
   "cell_type": "code",
   "execution_count": null,
   "metadata": {},
   "outputs": [],
   "source": [
    "# For debug purpose\n",
    "\n",
    "# Cost 6\n",
    "path_1 = [\n",
    "    np.array([\n",
    "        [1,0,0], \n",
    "        [0,0,0], \n",
    "        [0,0,0]], dtype=int),\n",
    "    np.array([\n",
    "        [1,0,0], \n",
    "        [0,0,1], \n",
    "        [0,0,0]], dtype=int),\n",
    "    np.array([\n",
    "        [1,0,0], \n",
    "        [0,0,1], \n",
    "        [1,0,0]], dtype=int)\n",
    "]\n",
    "# Cost 2\n",
    "path_2 = [\n",
    "    np.array([\n",
    "        [0,0,0], \n",
    "        [0,0,0], \n",
    "        [0,0,0]], dtype=int),\n",
    "    np.array([\n",
    "        [1,0,0], \n",
    "        [0,0,0], \n",
    "        [0,0,0]], dtype=int),\n",
    "    np.array([\n",
    "        [1,0,0], \n",
    "        [0,0,0], \n",
    "        [0,0,1]], dtype=int)\n",
    "]\n",
    "# Cost 4\n",
    "path_3 = [\n",
    "    np.array([\n",
    "        [1,0,0], \n",
    "        [0,0,0], \n",
    "        [0,0,0]], dtype=int),\n",
    "    np.array([\n",
    "        [1,0,0], \n",
    "        [0,0,1], \n",
    "        [0,0,0]], dtype=int)\n",
    "]\n",
    "# Cost 5 (Podar igual que Coste 4)\n",
    "path_4 = [\n",
    "    np.array([\n",
    "        [0,0,0], \n",
    "        [0,0,0], \n",
    "        [0,0,0]], dtype=int),\n",
    "    np.array([\n",
    "        [1,0,0], \n",
    "        [0,0,0], \n",
    "        [0,0,0]], dtype=int),\n",
    "    np.array([\n",
    "        [1,0,0], \n",
    "        [0,0,1], \n",
    "        [0,0,0]], dtype=int)\n",
    "]\n",
    "\n",
    "old_paths = [path_1, path_2]\n",
    "new_paths = [path_3, path_4]\n",
    "\n",
    "expected_paths = [path_2, path_3, path_1]\n",
    "\n",
    "print(order_byb(old_paths, new_paths, cost) == expected_paths)"
   ]
  },
  {
   "cell_type": "markdown",
   "metadata": {
    "id": "KdK9P2BonlfF"
   },
   "source": [
    "### Algoritmo de búsqueda"
   ]
  },
  {
   "cell_type": "code",
   "execution_count": null,
   "metadata": {
    "id": "igfEa7LwnlfF"
   },
   "outputs": [],
   "source": [
    "import itertools\n",
    "import logging\n",
    "current_level = logging.DEBUG\n",
    "logging.basicConfig(level=current_level, format='%(message)s')\n",
    "\n",
    "def search(initial_board, expansion, cost, heuristic, ordering, solution):\n",
    "    # Realiza una búsqueda en el espacio de estados\n",
    "    paths = None # Crea la lista de caminos\n",
    "    sol = None # Este es el estado solución\n",
    "\n",
    "    # La lista de caminos inicial debe ser el initial_board, con el formato de lista de listas\n",
    "    # dado que un camino es una lista de boards\n",
    "    paths = [\n",
    "        [initial_board]\n",
    "    ]\n",
    "\n",
    "\n",
    "    # 1 - Mientras haya caminos y no se haya encontrado solución\n",
    "    count = 1\n",
    "    while(len(paths) > 0 and sol is None):\n",
    "        # 2 - Extraer el primer camino\n",
    "        path = paths.pop(0)\n",
    "        logging.debug(f\"Paso: {count}\")\n",
    "\n",
    "        # 3 - Comprobar si estamos ante un estado solución\n",
    "        es_solucion = solution(path[-1])\n",
    "        logging.debug(f\"{es_solucion=}\")\n",
    "        if not es_solucion:\n",
    "            # 4 - Si no es solución, expandir el camino/ Si es solución, detenemos y vamos al paso 7.\n",
    "            expanded_boards = expansion(path[-1])\n",
    "            logging.debug(\"Sucesores:\")\n",
    "            if current_level <= logging.DEBUG:\n",
    "                for item in expanded_boards:\n",
    "                    logging.debug(np.array2string(item, separator=', '))\n",
    "\n",
    "            # 5 - Para cada estado expandido nuevo, añadirlo al camino lo que genera una lista de nuevos caminos\n",
    "            new_paths = [path + [matrix] for matrix in expanded_boards]            \n",
    "            \n",
    "            if current_level <= logging.DEBUG:\n",
    "                for item1 in new_paths:\n",
    "                    for item2 in item1:\n",
    "                        logging.debug(np.array2string(item2, separator=', '))\n",
    "\n",
    "            # 6 - Ordenar los nuevos caminos y viejos caminos, y realizar poda. Volver al paso 1.\n",
    "            paths = ordering(paths, new_paths, cost, h=heuristic)\n",
    "            \n",
    "            if current_level <= logging.DEBUG:\n",
    "                for item1 in paths:\n",
    "                    for item2 in item1:\n",
    "                        logging.debug(np.array2string(item2, separator=', '))\n",
    "        else:\n",
    "            # 7 - Devolver el camino si es solución, si no devolver None\n",
    "            sol = path[-1]\n",
    "\n",
    "    return sol # Devuelve solo la solución, no el camino solución"
   ]
  },
  {
   "cell_type": "markdown",
   "metadata": {},
   "source": [
    "### Test Search"
   ]
  },
  {
   "cell_type": "code",
   "execution_count": null,
   "metadata": {},
   "outputs": [],
   "source": [
    "# For debug purpose\n",
    "search(board, expand, cost, None, order_byb, is_solution)"
   ]
  },
  {
   "cell_type": "markdown",
   "metadata": {
    "id": "9GR8z-HEnlfF"
   },
   "source": [
    "# Experimentos\n",
    "Usa las funciones `search_horse_byb` y `search_horse_astar` para extraer resultados."
   ]
  },
  {
   "cell_type": "markdown",
   "metadata": {
    "id": "8bqZZ5hWnlfF"
   },
   "source": [
    "## Utilidades\n",
    "Usa estas funciones pre-programadas para ejecutar los experimentos y resumir el código."
   ]
  },
  {
   "cell_type": "markdown",
   "metadata": {
    "id": "lY9I23MSnlfG"
   },
   "source": [
    "### Temporizador"
   ]
  },
  {
   "cell_type": "code",
   "execution_count": null,
   "metadata": {
    "id": "oQsyNkxBnlfG"
   },
   "outputs": [],
   "source": [
    "################################# NO TOCAR #################################\n",
    "#                                                                          #\n",
    "import time\n",
    "\n",
    "def timer(func):\n",
    "    def wrapper(*args, **kwargs):\n",
    "        start = time.time()\n",
    "        res = func(*args, **kwargs)\n",
    "        end = time.time()\n",
    "        print(\"Executime time: \", end - start, \" seconds\")\n",
    "        return res\n",
    "    return wrapper\n",
    "#                                                                          #\n",
    "################################# NO TOCAR #################################\n",
    "\n",
    "# Este codigo temporiza la ejecución de una función cualquiera"
   ]
  },
  {
   "cell_type": "markdown",
   "metadata": {
    "id": "j3DttncwnlfG"
   },
   "source": [
    "### Envoltorios"
   ]
  },
  {
   "cell_type": "code",
   "execution_count": null,
   "metadata": {
    "id": "eeHNpIR7nlfG"
   },
   "outputs": [],
   "source": [
    "################################# NO TOCAR #################################\n",
    "#                                                                          #\n",
    "@timer\n",
    "def search_horse_byb(initial_board):\n",
    "    return search(initial_board, expand, cost, None, order_byb, is_solution)\n",
    "\n",
    "@timer\n",
    "def search_horse_astar(initial_board, heuristic):\n",
    "    return search(initial_board, expand, cost, heuristic, order_astar, is_solution)\n",
    "#                                                                          #\n",
    "################################# NO TOCAR #################################\n"
   ]
  },
  {
   "cell_type": "markdown",
   "metadata": {
    "id": "tj4ndHuEnlfG"
   },
   "source": [
    "### Lanzador de experimentos"
   ]
  },
  {
   "cell_type": "code",
   "execution_count": null,
   "metadata": {
    "id": "6FBa0nSjnlfG"
   },
   "outputs": [],
   "source": [
    "CONF = {'2x2': (2, 2),\n",
    "        '3x3': (3, 3),\n",
    "        '3x5': (3, 5),\n",
    "        '5x5': (5, 5),\n",
    "        '8x8': (8, 8),\n",
    "        }\n",
    "\n",
    "def measure_solution(board):\n",
    "    # Devuelve el número de caballos en la solución\n",
    "    # Es necesario programarla para poder medir la calidad de la solución\n",
    "    return np.count_nonzero(board==BoardCell.KNIGHT)\n",
    "\n",
    "def launch_experiment(configuration, heuristic=None):\n",
    "    conf = CONF[configuration]\n",
    "    print(f\"Running {'A*' if heuristic else 'B&B'} with {configuration} board\")\n",
    "    if heuristic:\n",
    "        sol = search_horse_astar(initial_state(*conf), heuristic)\n",
    "    else:\n",
    "        sol = search_horse_byb(initial_state(*conf))\n",
    "    n_c = measure_solution(sol)\n",
    "    print(f\"Solution found: \\n{sol}\")\n",
    "    print(f\"Number of horses in solution: {n_c}\")\n",
    "\n",
    "    return sol, n_c"
   ]
  },
  {
   "cell_type": "markdown",
   "metadata": {
    "id": "6l3mk4KUnlfG"
   },
   "source": [
    "## Ejecuciones\n",
    "Este espacio de la práctica está reservado a las ejecuciones de los algoritmos. Se recomienda el uso del método launch_experiment."
   ]
  },
  {
   "cell_type": "code",
   "execution_count": null,
   "metadata": {
    "id": "A2xM4VN4nlfG"
   },
   "outputs": [],
   "source": [
    "launch_experiment('2x2') # Ejemplo de uso para B&B\n",
    "print()\n",
    "launch_experiment('3x5', heuristic=heuristic_1) # Ejemplo de uso para A*\n",
    "print(\"Execution finished\")"
   ]
  },
  {
   "cell_type": "markdown",
   "metadata": {
    "id": "dznNYK44nlfG"
   },
   "source": [
    "### Branch & Bound"
   ]
  },
  {
   "cell_type": "code",
   "execution_count": null,
   "metadata": {
    "id": "J5TlnFldnlfH"
   },
   "outputs": [],
   "source": [
    "### Coloca aquí tus experimentos ###\n",
    "launch_experiment('2x2')"
   ]
  },
  {
   "cell_type": "code",
   "execution_count": null,
   "metadata": {},
   "outputs": [],
   "source": [
    "launch_experiment('3x3')"
   ]
  },
  {
   "cell_type": "code",
   "execution_count": null,
   "metadata": {},
   "outputs": [],
   "source": [
    "launch_experiment('3x5')"
   ]
  },
  {
   "cell_type": "code",
   "execution_count": null,
   "metadata": {},
   "outputs": [],
   "source": [
    "launch_experiment('5x5')"
   ]
  },
  {
   "cell_type": "code",
   "execution_count": null,
   "metadata": {},
   "outputs": [],
   "source": [
    "launch_experiment('8x8')"
   ]
  },
  {
   "cell_type": "markdown",
   "metadata": {
    "id": "9J59QSZrnlfH"
   },
   "source": [
    "**Resultados de Branch & Bound**\n",
    "\n",
    "#### Tabla\n",
    "| Tablero | Algoritmo | Tiempo | Caballos |\n",
    "|---------|-----------|--------|----------|\n",
    "| 2x2     |  B&B      | 0.000s | 4        |\n",
    "| 3x3     |  B&B      | 0.008s | 4        |\n",
    "| 3x5     |  B&B      | 0.040s | 5        |\n",
    "| 5x5     |  B&B      | 0.315s | 10       |\n",
    "| 8x8     |  B&B      | 7.134s | 24       |\n",
    "\n",
    "#### Gráfico\n",
    "<img src=\"https://raw.githubusercontent.com/ggilperez/ia_practica_1/main/ia_practica_1/imgs/grafico_tiempo_caballos_byb.png\" alt=\"drawing\" style=\"width:500px;\"/>\n",
    "\n",
    "<em>Los tiempos de ejecución pueden variar respecto a la ejecución actual.</em>\n",
    "\n",
    "\n",
    "#### Análisis\n",
    "Como se puede ver en la tabla y de mejor forma en el gráfico, estamos ante un algoritmo que si bien hace lo que promete, que es encontrar un camino óptimo a una posible solución, la cual no tiene porque ser óptima, gracias a su sistema de costes, no lo hace de la mejor forma posible, dado que para tableros muy pequeños, como el de 5x5 o menos, los tiempos son razonables, pero a medida que escala en tamaño los tiempos escalan de forma exponencial."
   ]
  },
  {
   "cell_type": "markdown",
   "metadata": {
    "id": "8c02KEGQnlfH"
   },
   "source": [
    "### A*"
   ]
  },
  {
   "cell_type": "code",
   "execution_count": null,
   "metadata": {
    "id": "5Jn8eC6UnlfH"
   },
   "outputs": [],
   "source": [
    "### Coloca aquí tus experimentos ###"
   ]
  },
  {
   "cell_type": "markdown",
   "metadata": {
    "id": "M8wQo-oMnlfI"
   },
   "source": [
    "**Resultados de A-Star**\n",
    "\n",
    "**--> Incluye aquí <--**\n",
    "\n",
    "La tabla de A* y una valoración crítica de los resultados."
   ]
  },
  {
   "cell_type": "markdown",
   "metadata": {
    "id": "53ND2ZcCnlfI"
   },
   "source": [
    "## Conclusiones\n",
    "\n",
    "**--> Incluye aquí <--**\n",
    "\n",
    "La tabla comparativa entre A* y B&B, añade una valoración crítica de los resultados, especificando las diferencias que encuentras entre ambos algoritmos de búsqueda, ventajas de usar uno sobre otro, el efecto de la configuración del problema, etc.\n",
    "\n",
    "\n",
    "#### Tabla\n",
    "| Tablero | Algoritmo | Tiempo | Caballos |\n",
    "|---------|-----------|--------|----------|\n",
    "| 2x2     |  B&B      | 0.000s | 4        |\n",
    "| 2x2     |  A*       |||\n",
    "| 3x3     |  B&B      | 0.008s | 4        |\n",
    "| 3x3     |  A*       |||\n",
    "| 3x5     |  B&B      | 0.040s | 5        |\n",
    "| 3x5     |  A*       |||\n",
    "| 5x5     |  B&B      | 0.315s | 10       |\n",
    "| 5x5     |  A*       |||\n",
    "| 8x8     |  B&B      | 7.134s | 24       |\n",
    "| 8x8     |  A*       |||"
   ]
  }
 ],
 "metadata": {
  "colab": {
   "collapsed_sections": [
    "KxjhQNXJnle9",
    "JVeEjXCjnle_",
    "HSrznxK8nlfA"
   ],
   "provenance": []
  },
  "kernelspec": {
   "display_name": "venv",
   "language": "python",
   "name": "python3"
  },
  "language_info": {
   "codemirror_mode": {
    "name": "ipython",
    "version": 3
   },
   "file_extension": ".py",
   "mimetype": "text/x-python",
   "name": "python",
   "nbconvert_exporter": "python",
   "pygments_lexer": "ipython3",
   "version": "3.12.4"
  }
 },
 "nbformat": 4,
 "nbformat_minor": 0
}
